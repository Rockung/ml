{
 "cells": [
  {
   "cell_type": "markdown",
   "metadata": {},
   "source": [
    "# Derive Gradients"
   ]
  },
  {
   "cell_type": "markdown",
   "metadata": {},
   "source": [
    "## sigmoid function\n",
    "Derive the gradients of the sigmoid function and show that it can be rewritten as a function of the function value. Assume that the input x is a scalar for this question.\n",
    "$$\\delta(x) = \\frac{1}{1+e^{-x}}$$"
   ]
  },
  {
   "cell_type": "markdown",
   "metadata": {},
   "source": [
    "## Cross Entropy Loss Function\n",
    "Find the gradients with respect to the softmax input vector \\\\(\\theta\\\\), when the prediction is made by \\\\(\\hat{y}=softmax(\\theta)\\\\)\n",
    "\n",
    "$$CE(y, \\hat{y}) = -\\sum_{i} y_i log(\\hat{y_i})$$\n",
    "where \\\\(y\\\\) is the one-hot label vector, and \\\\(\\hat{y}\\\\) is the predicted probability vector for all classes."
   ]
  },
  {
   "cell_type": "code",
   "execution_count": null,
   "metadata": {},
   "outputs": [],
   "source": []
  }
 ],
 "metadata": {
  "kernelspec": {
   "display_name": "Python 3",
   "language": "python",
   "name": "python3"
  },
  "language_info": {
   "codemirror_mode": {
    "name": "ipython",
    "version": 3
   },
   "file_extension": ".py",
   "mimetype": "text/x-python",
   "name": "python",
   "nbconvert_exporter": "python",
   "pygments_lexer": "ipython3",
   "version": "3.6.5"
  }
 },
 "nbformat": 4,
 "nbformat_minor": 2
}
