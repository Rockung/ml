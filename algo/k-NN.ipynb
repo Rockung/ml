{
 "cells": [
  {
   "cell_type": "markdown",
   "metadata": {},
   "source": [
    "# [k-nearest neighbors algorithm](https://en.wikipedia.org/wiki/K-nearest_neighbors_algorithm)\n",
    "\n",
    "In pattern recognition, the k-nearest neighbors algorithm (k-NN) is a non-parametric method used for classification and regression. In both cases, the input consists of the k closest training examples in the feature space. The output depends on whether k-NN is used for classification or regression.\n",
    "\n",
    "Let's go to learn this algorithm. For more information, please check [this repos](https://github.com/DTU-CS101/ML-TUTORIAL)."
   ]
  },
  {
   "cell_type": "code",
   "execution_count": null,
   "metadata": {},
   "outputs": [],
   "source": [
    "import csv\n",
    "import random\n",
    "import math\n",
    "import operator"
   ]
  },
  {
   "cell_type": "markdown",
   "metadata": {},
   "source": [
    "## sorted, operator.itemgetter"
   ]
  },
  {
   "cell_type": "markdown",
   "metadata": {},
   "source": [
    "### operator.itemgetter\n",
    "return a function which accesses object fields by index"
   ]
  },
  {
   "cell_type": "code",
   "execution_count": null,
   "metadata": {
    "scrolled": true
   },
   "outputs": [],
   "source": [
    "a = [1,2,3]"
   ]
  },
  {
   "cell_type": "code",
   "execution_count": null,
   "metadata": {},
   "outputs": [],
   "source": [
    "index = operator.itemgetter(0)\n",
    "index(a)"
   ]
  },
  {
   "cell_type": "code",
   "execution_count": null,
   "metadata": {},
   "outputs": [],
   "source": [
    "index = operator.itemgetter(1, 0)\n",
    "index(a)"
   ]
  },
  {
   "cell_type": "markdown",
   "metadata": {},
   "source": [
    "### sorted(iterable[, cmp[, key[, reverse]]])\n",
    "sort a list or an iterable object"
   ]
  },
  {
   "cell_type": "code",
   "execution_count": null,
   "metadata": {},
   "outputs": [],
   "source": [
    "students = [('john', 'A', 15), ('jane', 'B', 12), ('dave', 'B', 10)]"
   ]
  },
  {
   "cell_type": "code",
   "execution_count": null,
   "metadata": {},
   "outputs": [],
   "source": [
    "sorted(students, key=lambda student : student[2])"
   ]
  },
  {
   "cell_type": "code",
   "execution_count": null,
   "metadata": {},
   "outputs": [],
   "source": [
    "sorted(students, key=operator.itemgetter(2))"
   ]
  },
  {
   "cell_type": "code",
   "execution_count": null,
   "metadata": {},
   "outputs": [],
   "source": [
    "sorted(students, key=operator.itemgetter(1,2))"
   ]
  },
  {
   "cell_type": "code",
   "execution_count": null,
   "metadata": {},
   "outputs": [],
   "source": [
    "sorted(students, key=operator.itemgetter(2), reverse=True)"
   ]
  },
  {
   "cell_type": "markdown",
   "metadata": {},
   "source": [
    "## Load IRIS Data"
   ]
  },
  {
   "cell_type": "code",
   "execution_count": null,
   "metadata": {},
   "outputs": [],
   "source": [
    "def loadDataset(filename,split_ratio):\n",
    "    training_data, test_data = [], []\n",
    "    with open(filename,\"r\") as csvfile:\n",
    "        lines = csv.reader(csvfile)\n",
    "        dataset = list(lines)\n",
    "        \n",
    "        for x in range(len(dataset)- 1):\n",
    "            for y in range(4):\n",
    "                dataset[x][y] = float(dataset[x][y])\n",
    "                \n",
    "            if random.random() < split_ratio:\n",
    "                training_data.append(dataset[x])\n",
    "            else:\n",
    "                test_data.append(dataset[x])\n",
    "    return training_data, test_data"
   ]
  },
  {
   "cell_type": "code",
   "execution_count": null,
   "metadata": {},
   "outputs": [],
   "source": [
    "training_data, test_data = loadDataset('data/iris.data', 0.66)"
   ]
  },
  {
   "cell_type": "markdown",
   "metadata": {},
   "source": [
    "## Compute Metrics"
   ]
  },
  {
   "cell_type": "code",
   "execution_count": null,
   "metadata": {},
   "outputs": [],
   "source": [
    "def euclidean_distance(ins1, ins2, features):\n",
    "    distance = 0\n",
    "    for x in range(features):\n",
    "        distance += pow(ins1[x] - ins2[x], 2)\n",
    "\n",
    "    return math.sqrt(distance)"
   ]
  },
  {
   "cell_type": "code",
   "execution_count": null,
   "metadata": {},
   "outputs": [],
   "source": [
    "euclidean_distance(training_data[0], training_data[1], 4)"
   ]
  },
  {
   "cell_type": "markdown",
   "metadata": {},
   "source": [
    "## Compute Nearest Neighbours"
   ]
  },
  {
   "cell_type": "code",
   "execution_count": null,
   "metadata": {},
   "outputs": [],
   "source": [
    "def getNeighbours(training_data, test_ins, k):\n",
    "    distances = []\n",
    "    features = len(test_ins) - 1\n",
    "\n",
    "    for x in range(len(training_data)):\n",
    "        distance = euclidean_distance(test_ins, training_data[x], features)\n",
    "        distances.append((training_data[x],distance))\n",
    "\n",
    "    distances.sort(key = operator.itemgetter(1))\n",
    "\n",
    "    neighbours = []\n",
    "    for x in range(k):\n",
    "        neighbours.append(distances[x][0])\n",
    "\n",
    "    return neighbours"
   ]
  },
  {
   "cell_type": "code",
   "execution_count": null,
   "metadata": {},
   "outputs": [],
   "source": [
    "neighbours = getNeighbours(training_data, test_data[15], 5)\n",
    "neighbours"
   ]
  },
  {
   "cell_type": "code",
   "execution_count": null,
   "metadata": {},
   "outputs": [],
   "source": [
    "test_data[15]"
   ]
  },
  {
   "cell_type": "markdown",
   "metadata": {},
   "source": [
    "## Vote to Predict"
   ]
  },
  {
   "cell_type": "code",
   "execution_count": null,
   "metadata": {},
   "outputs": [],
   "source": [
    "def getResponseVotes(neighbours):\n",
    "    classvotes = {}\n",
    "\n",
    "    for x in range(len(neighbours)):\n",
    "        response = neighbours[x][-1]\n",
    "        if response in classvotes:\n",
    "            classvotes[response] +=1\n",
    "        else:\n",
    "            classvotes[response] = 1\n",
    "\n",
    "    sortedvotes = sorted(classvotes.items(),key = operator.itemgetter(1),reverse = True)    \n",
    "\n",
    "    return sortedvotes[0][0]"
   ]
  },
  {
   "cell_type": "code",
   "execution_count": null,
   "metadata": {},
   "outputs": [],
   "source": [
    "getResponseVotes(neighbours)"
   ]
  },
  {
   "cell_type": "markdown",
   "metadata": {},
   "source": [
    "## Compute Accuracy"
   ]
  },
  {
   "cell_type": "code",
   "execution_count": null,
   "metadata": {},
   "outputs": [],
   "source": [
    "def getAccuracy(test_data, predictions):\n",
    "    correct = 0\n",
    "    \n",
    "    for x in range(len(test_data)):\n",
    "        if test_data[x][-1] == predictions[x]:\n",
    "            correct+=1\n",
    "            \n",
    "    return (correct/float(len(test_data)))*100.0"
   ]
  },
  {
   "cell_type": "code",
   "execution_count": null,
   "metadata": {},
   "outputs": [],
   "source": [
    "def generatePredictions(training_data, test_data, k):\n",
    "    predictions = []\n",
    "    \n",
    "    for x in range(len(test_data)):                       \n",
    "        neighbours = getNeighbours(training_data, test_data[x], k)\n",
    "        prediction = getResponseVotes(neighbours)\n",
    "        predictions.append(prediction)\n",
    "        \n",
    "    return predictions"
   ]
  },
  {
   "cell_type": "code",
   "execution_count": null,
   "metadata": {},
   "outputs": [],
   "source": [
    "predictions = generatePredictions(training_data, test_data, k)"
   ]
  },
  {
   "cell_type": "code",
   "execution_count": null,
   "metadata": {},
   "outputs": [],
   "source": [
    "getAccuracy(test_data, predictions)"
   ]
  }
 ],
 "metadata": {
  "kernelspec": {
   "display_name": "Python 3",
   "language": "python",
   "name": "python3"
  },
  "language_info": {
   "codemirror_mode": {
    "name": "ipython",
    "version": 3
   },
   "file_extension": ".py",
   "mimetype": "text/x-python",
   "name": "python",
   "nbconvert_exporter": "python",
   "pygments_lexer": "ipython3",
   "version": "3.6.2"
  }
 },
 "nbformat": 4,
 "nbformat_minor": 2
}
