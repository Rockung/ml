{
 "cells": [
  {
   "cell_type": "markdown",
   "metadata": {},
   "source": [
    "# [Expectation Maximization](https://en.wikipedia.org/wiki/Expectation%E2%80%93maximization_algorithm)\n",
    "\n",
    "In statistics, an expectation–maximization (EM) algorithm is an iterative method to find maximum likelihood or maximum a posteriori (MAP) estimates of parameters in statistical models, where the model depends on unobserved latent variables. The EM iteration alternates between performing an expectation (E) step, which creates a function for the expectation of the log-likelihood evaluated using the current estimate for the parameters, and a maximization (M) step, which computes parameters maximizing the expected log-likelihood found on the E step. These parameter-estimates are then used to determine the distribution of the latent variables in the next E step.\n",
    "\n",
    "* https://github.com/mcdickenson/em-gaussian\n",
    "* https://github.com/sseemayer/mixem"
   ]
  },
  {
   "cell_type": "code",
   "execution_count": null,
   "metadata": {
    "scrolled": true
   },
   "outputs": [],
   "source": [
    "import numpy as np\n",
    "import pandas as pd\n",
    "import random as rand\n",
    "import matplotlib.pyplot as plt\n",
    "from scipy.stats import norm"
   ]
  },
  {
   "cell_type": "code",
   "execution_count": null,
   "metadata": {
    "scrolled": true
   },
   "outputs": [],
   "source": [
    "### Setup\n",
    "# set random seed\n",
    "rand.seed(42)"
   ]
  },
  {
   "cell_type": "code",
   "execution_count": null,
   "metadata": {
    "scrolled": true
   },
   "outputs": [],
   "source": [
    "# 2 clusters\n",
    "# not that both covariance matrices are diagonal\n",
    "mu1 = [0, 5]\n",
    "sig1 = [ [2, 0], [0, 3] ]\n",
    "\n",
    "mu2 = [5, 0]\n",
    "sig2 = [ [4, 0], [0, 1] ]"
   ]
  },
  {
   "cell_type": "code",
   "execution_count": null,
   "metadata": {
    "scrolled": true
   },
   "outputs": [],
   "source": [
    "# generate samples\n",
    "x1, y1 = np.random.multivariate_normal(mu1, sig1, 100).T\n",
    "x2, y2 = np.random.multivariate_normal(mu2, sig2, 100).T\n",
    "\n",
    "xs = np.concatenate((x1, x2))\n",
    "ys = np.concatenate((y1, y2))\n",
    "labels = ([1] * 100) + ([2] * 100)\n",
    "\n",
    "data = {'x': xs, 'y': ys, 'label': labels}\n",
    "df = pd.DataFrame(data=data)"
   ]
  },
  {
   "cell_type": "code",
   "execution_count": null,
   "metadata": {
    "scrolled": true
   },
   "outputs": [],
   "source": [
    "df.head()"
   ]
  },
  {
   "cell_type": "code",
   "execution_count": null,
   "metadata": {
    "scrolled": true
   },
   "outputs": [],
   "source": [
    "df.tail()"
   ]
  },
  {
   "cell_type": "code",
   "execution_count": null,
   "metadata": {
    "scrolled": true
   },
   "outputs": [],
   "source": [
    "%matplotlib inline"
   ]
  },
  {
   "cell_type": "code",
   "execution_count": null,
   "metadata": {
    "scrolled": true
   },
   "outputs": [],
   "source": [
    "fig = plt.figure()\n",
    "plt.scatter(data['x'], data['y'], 24, c=data['label'])\n",
    "plt.show()\n",
    "# fig.savefig(\"true-values.png\")"
   ]
  },
  {
   "cell_type": "code",
   "execution_count": null,
   "metadata": {
    "scrolled": true
   },
   "outputs": [],
   "source": [
    "# initial guesses - intentionally bad\n",
    "guess = { 'mu1': [1,1],\n",
    "          'sig1': [ [1, 0], [0, 1] ],\n",
    "          'mu2': [4,4],\n",
    "          'sig2': [ [1, 0], [0, 1] ],\n",
    "          'lambda': [0.4, 0.6]\n",
    "        }"
   ]
  },
  {
   "cell_type": "code",
   "execution_count": null,
   "metadata": {
    "scrolled": true
   },
   "outputs": [],
   "source": [
    "# probability that a point came from a Guassian with given parameters\n",
    "# note that the covariance must be diagonal for this to work\n",
    "def prob(val, mu, sig, lam):\n",
    "    p = lam\n",
    "    for i in range(len(val)):\n",
    "        p *= norm.pdf(val[i], mu[i], sig[i][i])\n",
    "    return p"
   ]
  },
  {
   "cell_type": "code",
   "execution_count": null,
   "metadata": {
    "scrolled": true
   },
   "outputs": [],
   "source": [
    "# assign every data point to its most likely cluster\n",
    "def expectation(dataFrame, parameters):\n",
    "    for i in range(dataFrame.shape[0]):\n",
    "        x = dataFrame['x'][i]\n",
    "        y = dataFrame['y'][i]\n",
    "    \n",
    "        mu  = list(parameters['mu1'])\n",
    "        sig = list(parameters['sig1'])\n",
    "        lam = parameters['lambda'][0]\n",
    "        p_cluster1 = prob([x, y], mu, sig, lam)\n",
    "    \n",
    "        mu  = list(parameters['mu2'])\n",
    "        sig = list(parameters['sig2'])\n",
    "        lam = parameters['lambda'][1]\n",
    "        p_cluster2 = prob([x, y], mu, sig, lam)\n",
    "\n",
    "        if p_cluster1 > p_cluster2:\n",
    "            dataFrame['label'][i] = 1\n",
    "        else:\n",
    "            dataFrame['label'][i] = 2\n",
    "    return dataFrame"
   ]
  },
  {
   "cell_type": "code",
   "execution_count": null,
   "metadata": {
    "scrolled": true
   },
   "outputs": [],
   "source": [
    "# update estimates of lambda, mu and sigma\n",
    "def maximization(dataFrame, parameters):\n",
    "    points1 = dataFrame[dataFrame['label'] == 1]\n",
    "    points2 = dataFrame[dataFrame['label'] == 2]\n",
    "    percent1 = len(points1) / float(len(dataFrame))\n",
    "    percent2 = 1 - percent1\n",
    "    parameters['lambda'] = [percent1, percent2 ]\n",
    "    parameters['mu1'] = [points1['x'].mean(), points1['y'].mean()]\n",
    "    parameters['mu2'] = [points2['x'].mean(), points2['y'].mean()]\n",
    "    parameters['sig1'] = [ [points1['x'].std(), 0 ], [ 0, points1['y'].std() ] ]\n",
    "    parameters['sig2'] = [ [points2['x'].std(), 0 ], [ 0, points2['y'].std() ] ]\n",
    "    return parameters"
   ]
  },
  {
   "cell_type": "code",
   "execution_count": null,
   "metadata": {
    "scrolled": true
   },
   "outputs": [],
   "source": [
    "# get the distance between points\n",
    "# used for determining if params have converged\n",
    "def distance(old_params, new_params):\n",
    "  dist = 0\n",
    "  for param in ['mu1', 'mu2']:\n",
    "    for i in range(len(old_params)):\n",
    "      dist += (old_params[param][i] - new_params[param][i]) ** 2\n",
    "  return dist ** 0.5"
   ]
  },
  {
   "cell_type": "code",
   "execution_count": null,
   "metadata": {
    "scrolled": true
   },
   "outputs": [],
   "source": [
    "# loop until parameters converge\n",
    "shift = float('inf')\n",
    "epsilon = 0.01\n",
    "iters = 0\n",
    "df_copy = df.copy()\n",
    "# randomly assign points to their initial clusters\n",
    "df_copy['label'] = map(lambda x: x+1, np.random.choice(2, len(df)))\n",
    "params = pd.DataFrame(guess)"
   ]
  },
  {
   "cell_type": "code",
   "execution_count": null,
   "metadata": {
    "scrolled": true
   },
   "outputs": [],
   "source": [
    "while shift > epsilon:\n",
    "    iters += 1\n",
    "    \n",
    "    # E-step\n",
    "    updated_labels = expectation(df_copy.copy(), params)\n",
    "\n",
    "    # M-step\n",
    "    updated_parameters = maximization(updated_labels, params.copy())\n",
    "\n",
    "    # see if our estimates of mu have changed\n",
    "    # could incorporate all params, or overall log-likelihood\n",
    "    shift = distance(params, updated_parameters)\n",
    "\n",
    "    # logging\n",
    "    print(\"iteration {}, shift {}\".format(iters, shift))\n",
    "\n",
    "    # update labels and params for the next iteration\n",
    "    df_copy = updated_labels\n",
    "    params = updated_parameters\n",
    "\n",
    "    fig = plt.figure()\n",
    "    plt.scatter(df_copy['x'], df_copy['y'], 24, c=df_copy['label'])\n",
    "    # fig.savefig(\"iteration{}.png\".format(iters))"
   ]
  },
  {
   "cell_type": "code",
   "execution_count": null,
   "metadata": {
    "scrolled": true
   },
   "outputs": [],
   "source": []
  }
 ],
 "metadata": {
  "kernelspec": {
   "display_name": "Python 3",
   "language": "python",
   "name": "python3"
  },
  "language_info": {
   "codemirror_mode": {
    "name": "ipython",
    "version": 3
   },
   "file_extension": ".py",
   "mimetype": "text/x-python",
   "name": "python",
   "nbconvert_exporter": "python",
   "pygments_lexer": "ipython3",
   "version": "3.6.2"
  }
 },
 "nbformat": 4,
 "nbformat_minor": 2
}
